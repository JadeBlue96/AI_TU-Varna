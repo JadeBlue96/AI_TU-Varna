{
 "cells": [
  {
   "cell_type": "code",
   "execution_count": 1,
   "metadata": {},
   "outputs": [],
   "source": [
    "import numpy as np\n",
    "import matplotlib.pyplot as plt\n",
    "from sklearn.neural_network import MLPClassifier\n",
    "from scipy.io import loadmat\n",
    "from scipy.sparse import csc_matrix, csr_matrix\n",
    "\n",
    "\n",
    "import tensorflow as tf\n",
    "from tensorflow.keras.utils import to_categorical\n",
    "\n",
    "from sklearn.model_selection import learning_curve"
   ]
  },
  {
   "cell_type": "code",
   "execution_count": 2,
   "metadata": {},
   "outputs": [],
   "source": [
    "task1_data = loadmat('zad1')"
   ]
  },
  {
   "cell_type": "code",
   "execution_count": 3,
   "metadata": {},
   "outputs": [],
   "source": [
    "X = np.array(task1_data['X'].T)\n",
    "T = np.array(task1_data['T'])\n",
    "classes = [0,1,2]"
   ]
  },
  {
   "cell_type": "code",
   "execution_count": 4,
   "metadata": {},
   "outputs": [],
   "source": [
    "X_test = np.array([[3.5,4.2],[0.5,4.1],[5,3.5],[2.9,1.6],[4,4.6]])"
   ]
  },
  {
   "cell_type": "code",
   "execution_count": 5,
   "metadata": {},
   "outputs": [
    {
     "name": "stdout",
     "output_type": "stream",
     "text": [
      "[[1.  1. ]\n",
      " [2.  1. ]\n",
      " [1.  2. ]\n",
      " [2.  2. ]\n",
      " [1.5 1.5]\n",
      " [2.5 1.5]\n",
      " [1.2 2.1]\n",
      " [2.  2. ]\n",
      " [2.  3. ]\n",
      " [3.  2. ]\n",
      " [3.  3. ]\n",
      " [3.  4. ]\n",
      " [4.1 3.9]\n",
      " [2.7 2.2]\n",
      " [2.6 3.6]\n",
      " [3.6 2.4]\n",
      " [3.4 3.5]\n",
      " [3.8 4.9]\n",
      " [4.  3. ]\n",
      " [3.  5. ]\n",
      " [3.  6. ]\n",
      " [4.  4. ]\n",
      " [4.  5. ]\n",
      " [4.  6. ]\n",
      " [5.  6. ]\n",
      " [6.  5. ]\n",
      " [5.  4. ]]\n"
     ]
    }
   ],
   "source": [
    "print(X)"
   ]
  },
  {
   "cell_type": "code",
   "execution_count": 6,
   "metadata": {},
   "outputs": [
    {
     "name": "stdout",
     "output_type": "stream",
     "text": [
      "  (0, 0)\t1.0\n",
      "  (0, 1)\t1.0\n",
      "  (0, 2)\t1.0\n",
      "  (0, 3)\t1.0\n",
      "  (0, 4)\t1.0\n",
      "  (0, 5)\t1.0\n",
      "  (0, 6)\t1.0\n",
      "  (0, 7)\t1.0\n",
      "  (0, 8)\t1.0\n",
      "  (1, 9)\t1.0\n",
      "  (1, 10)\t1.0\n",
      "  (1, 11)\t1.0\n",
      "  (1, 12)\t1.0\n",
      "  (1, 13)\t1.0\n",
      "  (1, 14)\t1.0\n",
      "  (1, 15)\t1.0\n",
      "  (1, 16)\t1.0\n",
      "  (1, 17)\t1.0\n",
      "  (1, 18)\t1.0\n",
      "  (2, 19)\t1.0\n",
      "  (2, 20)\t1.0\n",
      "  (2, 21)\t1.0\n",
      "  (2, 22)\t1.0\n",
      "  (2, 23)\t1.0\n",
      "  (2, 24)\t1.0\n",
      "  (2, 25)\t1.0\n",
      "  (2, 26)\t1.0\n"
     ]
    }
   ],
   "source": [
    "print(T)"
   ]
  },
  {
   "cell_type": "code",
   "execution_count": 7,
   "metadata": {},
   "outputs": [],
   "source": [
    "Tc = np.array(csr_matrix.todense(task1_data['T']))"
   ]
  },
  {
   "cell_type": "code",
   "execution_count": 8,
   "metadata": {},
   "outputs": [
    {
     "name": "stdout",
     "output_type": "stream",
     "text": [
      "[[1. 1. 1. 1. 1. 1. 1. 1. 1. 0. 0. 0. 0. 0. 0. 0. 0. 0. 0. 0. 0. 0. 0. 0.\n",
      "  0. 0. 0.]\n",
      " [0. 0. 0. 0. 0. 0. 0. 0. 0. 1. 1. 1. 1. 1. 1. 1. 1. 1. 1. 0. 0. 0. 0. 0.\n",
      "  0. 0. 0.]\n",
      " [0. 0. 0. 0. 0. 0. 0. 0. 0. 0. 0. 0. 0. 0. 0. 0. 0. 0. 0. 1. 1. 1. 1. 1.\n",
      "  1. 1. 1.]] (3, 27)\n"
     ]
    }
   ],
   "source": [
    "print(Tc, Tc.shape)"
   ]
  },
  {
   "cell_type": "code",
   "execution_count": 9,
   "metadata": {},
   "outputs": [
    {
     "name": "stdout",
     "output_type": "stream",
     "text": [
      "index: 0\n",
      "encoded data: [1. 0. 0.]\n",
      "decoded data: 0\n",
      "\n",
      "index: 1\n",
      "encoded data: [1. 0. 0.]\n",
      "decoded data: 0\n",
      "\n",
      "index: 2\n",
      "encoded data: [1. 0. 0.]\n",
      "decoded data: 0\n",
      "\n",
      "index: 3\n",
      "encoded data: [1. 0. 0.]\n",
      "decoded data: 0\n",
      "\n",
      "index: 4\n",
      "encoded data: [1. 0. 0.]\n",
      "decoded data: 0\n",
      "\n",
      "index: 5\n",
      "encoded data: [1. 0. 0.]\n",
      "decoded data: 0\n",
      "\n",
      "index: 6\n",
      "encoded data: [1. 0. 0.]\n",
      "decoded data: 0\n",
      "\n",
      "index: 7\n",
      "encoded data: [1. 0. 0.]\n",
      "decoded data: 0\n",
      "\n",
      "index: 8\n",
      "encoded data: [1. 0. 0.]\n",
      "decoded data: 0\n",
      "\n",
      "index: 9\n",
      "encoded data: [0. 1. 0.]\n",
      "decoded data: 1\n",
      "\n",
      "index: 10\n",
      "encoded data: [0. 1. 0.]\n",
      "decoded data: 1\n",
      "\n",
      "index: 11\n",
      "encoded data: [0. 1. 0.]\n",
      "decoded data: 1\n",
      "\n",
      "index: 12\n",
      "encoded data: [0. 1. 0.]\n",
      "decoded data: 1\n",
      "\n",
      "index: 13\n",
      "encoded data: [0. 1. 0.]\n",
      "decoded data: 1\n",
      "\n",
      "index: 14\n",
      "encoded data: [0. 1. 0.]\n",
      "decoded data: 1\n",
      "\n",
      "index: 15\n",
      "encoded data: [0. 1. 0.]\n",
      "decoded data: 1\n",
      "\n",
      "index: 16\n",
      "encoded data: [0. 1. 0.]\n",
      "decoded data: 1\n",
      "\n",
      "index: 17\n",
      "encoded data: [0. 1. 0.]\n",
      "decoded data: 1\n",
      "\n",
      "index: 18\n",
      "encoded data: [0. 1. 0.]\n",
      "decoded data: 1\n",
      "\n",
      "index: 19\n",
      "encoded data: [0. 0. 1.]\n",
      "decoded data: 2\n",
      "\n",
      "index: 20\n",
      "encoded data: [0. 0. 1.]\n",
      "decoded data: 2\n",
      "\n",
      "index: 21\n",
      "encoded data: [0. 0. 1.]\n",
      "decoded data: 2\n",
      "\n",
      "index: 22\n",
      "encoded data: [0. 0. 1.]\n",
      "decoded data: 2\n",
      "\n",
      "index: 23\n",
      "encoded data: [0. 0. 1.]\n",
      "decoded data: 2\n",
      "\n",
      "index: 24\n",
      "encoded data: [0. 0. 1.]\n",
      "decoded data: 2\n",
      "\n",
      "index: 25\n",
      "encoded data: [0. 0. 1.]\n",
      "decoded data: 2\n",
      "\n",
      "index: 26\n",
      "encoded data: [0. 0. 1.]\n",
      "decoded data: 2\n",
      "\n"
     ]
    }
   ],
   "source": [
    "for i in range(Tc.T.shape[0]):\n",
    "    data = Tc.T[i]\n",
    "    print('index: %d' % i)\n",
    "    print('encoded data: %s' % data)\n",
    "    decoded_datum = np.argmax(data)\n",
    "    print('decoded data: %s' % decoded_datum)\n",
    "    print()"
   ]
  },
  {
   "cell_type": "code",
   "execution_count": 10,
   "metadata": {},
   "outputs": [],
   "source": [
    "y_classes = np.array([np.argmax(data) for data in Tc.T])"
   ]
  },
  {
   "cell_type": "code",
   "execution_count": 11,
   "metadata": {},
   "outputs": [
    {
     "name": "stdout",
     "output_type": "stream",
     "text": [
      "[0 0 0 0 0 0 0 0 0 1 1 1 1 1 1 1 1 1 1 2 2 2 2 2 2 2 2]\n"
     ]
    }
   ],
   "source": [
    "print(y_classes)"
   ]
  },
  {
   "cell_type": "code",
   "execution_count": 12,
   "metadata": {},
   "outputs": [
    {
     "name": "stdout",
     "output_type": "stream",
     "text": [
      "27 (27, 2)\n"
     ]
    }
   ],
   "source": [
    "print(len(y_classes), X.shape)"
   ]
  },
  {
   "cell_type": "code",
   "execution_count": 13,
   "metadata": {},
   "outputs": [
    {
     "data": {
      "text/plain": [
       "<matplotlib.collections.PathCollection at 0x1db677f51d0>"
      ]
     },
     "execution_count": 13,
     "metadata": {},
     "output_type": "execute_result"
    },
    {
     "data": {
      "image/png": "[encoded data removed]",
      "text/plain": [
       "<Figure size 432x288 with 1 Axes>"
      ]
     },
     "metadata": {},
     "output_type": "display_data"
    }
   ],
   "source": [
    "arg_0 = np.where(y_classes == 0)\n",
    "arg_1 = np.where(y_classes == 1)\n",
    "arg_2 = np.where(y_classes == 2)\n",
    "plt.scatter(X[arg_0,0], X[arg_0,1], marker='o')\n",
    "plt.scatter(X[arg_1,0], X[arg_1,1], marker='x')\n",
    "plt.scatter(X[arg_2,0], X[arg_2,1], marker='+')"
   ]
  },
  {
   "cell_type": "code",
   "execution_count": 20,
   "metadata": {},
   "outputs": [],
   "source": [
    "#MLP = MLPClassifier(hidden_layer_sizes=(27,),max_iter=1200)\n",
    "MLP = MLPClassifier(hidden_layer_sizes=(100,),max_iter=1200)"
   ]
  },
  {
   "cell_type": "code",
   "execution_count": 21,
   "metadata": {},
   "outputs": [
    {
     "name": "stderr",
     "output_type": "stream",
     "text": [
      "c:\\users\\user\\appdata\\local\\conda\\conda\\envs\\tf\\lib\\site-packages\\sklearn\\neural_network\\multilayer_perceptron.py:562: ConvergenceWarning: Stochastic Optimizer: Maximum iterations (1200) reached and the optimization hasn't converged yet.\n",
      "  % self.max_iter, ConvergenceWarning)\n"
     ]
    },
    {
     "data": {
      "text/plain": [
       "MLPClassifier(activation='relu', alpha=0.0001, batch_size='auto', beta_1=0.9,\n",
       "       beta_2=0.999, early_stopping=False, epsilon=1e-08,\n",
       "       hidden_layer_sizes=(100,), learning_rate='constant',\n",
       "       learning_rate_init=0.001, max_iter=1200, momentum=0.9,\n",
       "       n_iter_no_change=10, nesterovs_momentum=True, power_t=0.5,\n",
       "       random_state=None, shuffle=True, solver='adam', tol=0.0001,\n",
       "       validation_fraction=0.1, verbose=False, warm_start=False)"
      ]
     },
     "execution_count": 21,
     "metadata": {},
     "output_type": "execute_result"
    }
   ],
   "source": [
    "MLP.fit(X, y_classes)"
   ]
  },
  {
   "cell_type": "code",
   "execution_count": 22,
   "metadata": {},
   "outputs": [],
   "source": [
    "y_pred = MLP.predict(X_test)"
   ]
  },
  {
   "cell_type": "code",
   "execution_count": 23,
   "metadata": {},
   "outputs": [
    {
     "data": {
      "text/plain": [
       "[<matplotlib.lines.Line2D at 0x1db67985e48>]"
      ]
     },
     "execution_count": 23,
     "metadata": {},
     "output_type": "execute_result"
    },
    {
     "data": {
      "image/png": "[encoded data removed]",
      "text/plain": [
       "<Figure size 432x288 with 1 Axes>"
      ]
     },
     "metadata": {},
     "output_type": "display_data"
    }
   ],
   "source": [
    "plt.title('Model loss by iterations')\n",
    "plt.plot(MLP.loss_curve_)"
   ]
  },
  {
   "cell_type": "code",
   "execution_count": 24,
   "metadata": {},
   "outputs": [],
   "source": [
    "def plot_predictions():\n",
    "    \n",
    "    plt.title(\"Predicted classes\")\n",
    "    \n",
    "    arg_0 = np.where(y_pred == 0)\n",
    "    arg_1 = np.where(y_pred == 1)\n",
    "    arg_2 = np.where(y_pred == 2)\n",
    "    plt.scatter(X_test[arg_0,0], X_test[arg_0,1], marker='o', c='red', label='Predicted O')\n",
    "    plt.scatter(X_test[arg_1,0], X_test[arg_1,1], marker='x', c='red', label='Predicted X')\n",
    "    plt.scatter(X_test[arg_2,0], X_test[arg_2,1], marker='+', c='red', label='Predicted +')\n",
    "\n",
    "    arg_0 = np.where(y_classes == 0)\n",
    "    arg_1 = np.where(y_classes == 1)\n",
    "    arg_2 = np.where(y_classes == 2)\n",
    "    plt.scatter(X[arg_0,0], X[arg_0,1], marker='o', label='True O')\n",
    "    plt.scatter(X[arg_1,0], X[arg_1,1], marker='x', label='True X')\n",
    "    plt.scatter(X[arg_2,0], X[arg_2,1], marker='+', label='True +')\n",
    "    plt.legend()\n",
    "    plt.show()"
   ]
  },
  {
   "cell_type": "code",
   "execution_count": 25,
   "metadata": {},
   "outputs": [
    {
     "data": {
      "image/png": "[encoded data removed]",
      "text/plain": [
       "<Figure size 432x288 with 1 Axes>"
      ]
     },
     "metadata": {},
     "output_type": "display_data"
    }
   ],
   "source": [
    "plot_predictions()"
   ]
  }
 ],
 "metadata": {
  "kernelspec": {
   "display_name": "Python 3",
   "language": "python",
   "name": "python3"
  },
  "language_info": {
   "codemirror_mode": {
    "name": "ipython",
    "version": 3
   },
   "file_extension": ".py",
   "mimetype": "text/x-python",
   "name": "python",
   "nbconvert_exporter": "python",
   "pygments_lexer": "ipython3",
   "version": "3.6.3"
  }
 },
 "nbformat": 4,
 "nbformat_minor": 2
}
