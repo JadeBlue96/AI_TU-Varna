{
 "cells": [
  {
   "cell_type": "code",
   "execution_count": 1,
   "metadata": {},
   "outputs": [],
   "source": [
    "import numpy as np\n",
    "import matplotlib.pyplot as plt\n",
    "from sklearn.neural_network import MLPClassifier\n",
    "from scipy.io import loadmat\n",
    "from scipy.sparse import csc_matrix, csr_matrix\n",
    "\n",
    "\n",
    "import tensorflow as tf\n",
    "from tensorflow.keras.utils import to_categorical\n",
    "\n",
    "from sklearn.model_selection import learning_curve"
   ]
  },
  {
   "cell_type": "code",
   "execution_count": 2,
   "metadata": {},
   "outputs": [],
   "source": [
    "task2_data = loadmat('zad1')\n",
    "X = np.array(task2_data['X'].T)\n",
    "T = np.array(task2_data['T'])\n",
    "classes = [0,1]"
   ]
  },
  {
   "cell_type": "code",
   "execution_count": 3,
   "metadata": {},
   "outputs": [
    {
     "name": "stdout",
     "output_type": "stream",
     "text": [
      "[[1.  1. ]\n",
      " [2.  1. ]\n",
      " [1.  2. ]\n",
      " [2.  2. ]\n",
      " [1.5 1.5]\n",
      " [2.5 1.5]\n",
      " [1.2 2.1]\n",
      " [2.  2. ]\n",
      " [2.  3. ]\n",
      " [3.  2. ]\n",
      " [3.  3. ]\n",
      " [3.  4. ]\n",
      " [4.1 3.9]\n",
      " [2.7 2.2]\n",
      " [2.6 3.6]\n",
      " [3.6 2.4]\n",
      " [3.4 3.5]\n",
      " [3.8 4.9]\n",
      " [4.  3. ]\n",
      " [3.  5. ]\n",
      " [3.  6. ]\n",
      " [4.  4. ]\n",
      " [4.  5. ]\n",
      " [4.  6. ]\n",
      " [5.  6. ]\n",
      " [6.  5. ]\n",
      " [5.  4. ]] (27, 2)\n"
     ]
    }
   ],
   "source": [
    "print(X, X.shape)"
   ]
  },
  {
   "cell_type": "code",
   "execution_count": 4,
   "metadata": {},
   "outputs": [],
   "source": [
    "X_test = np.array([[2.4, 2.1], [2.4, 2.7], [2.4, 2.5]]);"
   ]
  },
  {
   "cell_type": "code",
   "execution_count": 5,
   "metadata": {},
   "outputs": [
    {
     "name": "stdout",
     "output_type": "stream",
     "text": [
      "[[1. 1. 1. 1. 1. 1. 1. 1. 1. 0. 0. 0. 0. 0. 0. 0. 0. 0. 0. 0. 0. 0. 0. 0.\n",
      "  0. 0. 0.]\n",
      " [0. 0. 0. 0. 0. 0. 0. 0. 0. 1. 1. 1. 1. 1. 1. 1. 1. 1. 1. 0. 0. 0. 0. 0.\n",
      "  0. 0. 0.]\n",
      " [0. 0. 0. 0. 0. 0. 0. 0. 0. 0. 0. 0. 0. 0. 0. 0. 0. 0. 0. 1. 1. 1. 1. 1.\n",
      "  1. 1. 1.]] (3, 27)\n"
     ]
    }
   ],
   "source": [
    "Tc = np.array(csr_matrix.todense(task2_data['T']))\n",
    "print(Tc, Tc.shape)"
   ]
  },
  {
   "cell_type": "code",
   "execution_count": 6,
   "metadata": {},
   "outputs": [],
   "source": [
    "y_classes = np.array([np.argmax(data) for data in Tc.T])\n",
    "y_classes = y_classes[y_classes!=2]\n",
    "X = X[:len(y_classes),:]"
   ]
  },
  {
   "cell_type": "code",
   "execution_count": 7,
   "metadata": {},
   "outputs": [
    {
     "name": "stdout",
     "output_type": "stream",
     "text": [
      "[0 0 0 0 0 0 0 0 0 1 1 1 1 1 1 1 1 1 1] (19,)\n"
     ]
    }
   ],
   "source": [
    "print(y_classes, y_classes.shape)"
   ]
  },
  {
   "cell_type": "code",
   "execution_count": 8,
   "metadata": {},
   "outputs": [
    {
     "name": "stdout",
     "output_type": "stream",
     "text": [
      "(19, 2)\n"
     ]
    }
   ],
   "source": [
    "print(X.shape)"
   ]
  },
  {
   "cell_type": "code",
   "execution_count": 9,
   "metadata": {},
   "outputs": [
    {
     "data": {
      "text/plain": [
       "<matplotlib.collections.PathCollection at 0x1e0accd46d8>"
      ]
     },
     "execution_count": 9,
     "metadata": {},
     "output_type": "execute_result"
    },
    {
     "data": {
      "image/png": "[encoded data removed]",
      "text/plain": [
       "<Figure size 432x288 with 1 Axes>"
      ]
     },
     "metadata": {},
     "output_type": "display_data"
    }
   ],
   "source": [
    "arg_0 = np.where(y_classes == 0)\n",
    "arg_1 = np.where(y_classes == 1)\n",
    "plt.scatter(X[arg_0,0], X[arg_0,1], marker='o')\n",
    "plt.scatter(X[arg_1,0], X[arg_1,1], marker='x')"
   ]
  },
  {
   "cell_type": "code",
   "execution_count": 10,
   "metadata": {},
   "outputs": [],
   "source": [
    "#MLP = MLPClassifier(hidden_layer_sizes=(19,),max_iter=1200)\n",
    "MLP = MLPClassifier(hidden_layer_sizes=(100,),max_iter=1200)"
   ]
  },
  {
   "cell_type": "code",
   "execution_count": 11,
   "metadata": {},
   "outputs": [
    {
     "data": {
      "text/plain": [
       "MLPClassifier(activation='relu', alpha=0.0001, batch_size='auto', beta_1=0.9,\n",
       "       beta_2=0.999, early_stopping=False, epsilon=1e-08,\n",
       "       hidden_layer_sizes=(100,), learning_rate='constant',\n",
       "       learning_rate_init=0.001, max_iter=1200, momentum=0.9,\n",
       "       n_iter_no_change=10, nesterovs_momentum=True, power_t=0.5,\n",
       "       random_state=None, shuffle=True, solver='adam', tol=0.0001,\n",
       "       validation_fraction=0.1, verbose=False, warm_start=False)"
      ]
     },
     "execution_count": 11,
     "metadata": {},
     "output_type": "execute_result"
    }
   ],
   "source": [
    "MLP.fit(X, y_classes)"
   ]
  },
  {
   "cell_type": "code",
   "execution_count": 12,
   "metadata": {},
   "outputs": [],
   "source": [
    "y_pred = MLP.predict(X_test)"
   ]
  },
  {
   "cell_type": "code",
   "execution_count": 13,
   "metadata": {},
   "outputs": [
    {
     "data": {
      "text/plain": [
       "[<matplotlib.lines.Line2D at 0x1e0acd7f9e8>]"
      ]
     },
     "execution_count": 13,
     "metadata": {},
     "output_type": "execute_result"
    },
    {
     "data": {
      "image/png": "[encoded data removed]",
      "text/plain": [
       "<Figure size 432x288 with 1 Axes>"
      ]
     },
     "metadata": {},
     "output_type": "display_data"
    }
   ],
   "source": [
    "plt.title('Model loss by iterations')\n",
    "plt.plot(MLP.loss_curve_)"
   ]
  },
  {
   "cell_type": "code",
   "execution_count": 14,
   "metadata": {},
   "outputs": [],
   "source": [
    "def plot_predictions():\n",
    "    \n",
    "    plt.title(\"Predicted classes\")\n",
    "    \n",
    "    arg_0 = np.where(y_pred == 0)\n",
    "    arg_1 = np.where(y_pred == 1)\n",
    "    plt.scatter(X_test[arg_0,0], X_test[arg_0,1], marker='o', c='red', label='Predicted O')\n",
    "    plt.scatter(X_test[arg_1,0], X_test[arg_1,1], marker='x', c='red', label='Predicted X')\n",
    "\n",
    "    arg_0 = np.where(y_classes == 0)\n",
    "    arg_1 = np.where(y_classes == 1)\n",
    "    plt.scatter(X[arg_0,0], X[arg_0,1], marker='o', label='True O')\n",
    "    plt.scatter(X[arg_1,0], X[arg_1,1], marker='x', label='True X')\n",
    "    plt.legend()\n",
    "    plt.show()"
   ]
  },
  {
   "cell_type": "code",
   "execution_count": 15,
   "metadata": {},
   "outputs": [
    {
     "data": {
      "image/png": "[encoded data removed]",
      "text/plain": [
       "<Figure size 432x288 with 1 Axes>"
      ]
     },
     "metadata": {},
     "output_type": "display_data"
    }
   ],
   "source": [
    "plot_predictions()"
   ]
  }
 ],
 "metadata": {
  "kernelspec": {
   "display_name": "Python 3",
   "language": "python",
   "name": "python3"
  },
  "language_info": {
   "codemirror_mode": {
    "name": "ipython",
    "version": 3
   },
   "file_extension": ".py",
   "mimetype": "text/x-python",
   "name": "python",
   "nbconvert_exporter": "python",
   "pygments_lexer": "ipython3",
   "version": "3.6.3"
  }
 },
 "nbformat": 4,
 "nbformat_minor": 2
}
