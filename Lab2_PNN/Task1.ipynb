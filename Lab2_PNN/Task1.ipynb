{
 "cells": [
  {
   "cell_type": "code",
   "execution_count": 20,
   "metadata": {},
   "outputs": [],
   "source": [
    "import numpy as np\n",
    "import matplotlib.pyplot as plt\n",
    "from scipy.io import loadmat\n",
    "from scipy.sparse import csc_matrix, csr_matrix\n",
    "from sklearn.metrics import accuracy_score, classification_report\n",
    "\n",
    "from neupy.algorithms.rbfn.pnn import PNN"
   ]
  },
  {
   "cell_type": "code",
   "execution_count": 10,
   "metadata": {},
   "outputs": [],
   "source": [
    "classes = [0,1,2]\n",
    "markers = ['o','x','^']"
   ]
  },
  {
   "cell_type": "code",
   "execution_count": 25,
   "metadata": {},
   "outputs": [],
   "source": [
    "X_test = np.array([[3.5, 4.2], [0.5, 4.1], [5, 3.5], [2.9, 1.6], [4, 4.6]])"
   ]
  },
  {
   "cell_type": "code",
   "execution_count": 7,
   "metadata": {},
   "outputs": [],
   "source": [
    "def prepare_mat_data(matfile):\n",
    "    task_data = loadmat(matfile)\n",
    "    X = np.array(task_data['X'].T)\n",
    "    print('X:{}, Shape:{}'.format(X,X.shape))\n",
    "    T = np.array(task_data['T'])\n",
    "    print('T:{}, Shape:{}'.format(T,T.shape))\n",
    "    Tc = np.array(csr_matrix.todense(task_data['T']))\n",
    "    print('Tc:{}, Shape:{}'.format(Tc, Tc.shape))\n",
    "    y_classes = np.array([np.argmax(data) for data in Tc.T]) #reverse one-hot-encoding\n",
    "    print('Class vector:{}, Shape:{}'.format(y_classes, y_classes.shape))\n",
    "    return X, y_classes"
   ]
  },
  {
   "cell_type": "code",
   "execution_count": 8,
   "metadata": {},
   "outputs": [
    {
     "name": "stdout",
     "output_type": "stream",
     "text": [
      "X:[[1.  1. ]\n",
      " [2.  1. ]\n",
      " [1.  2. ]\n",
      " [2.  2. ]\n",
      " [1.5 1.5]\n",
      " [2.5 1.5]\n",
      " [1.2 2.1]\n",
      " [2.  2. ]\n",
      " [2.  3. ]\n",
      " [3.  2. ]\n",
      " [3.  3. ]\n",
      " [3.  4. ]\n",
      " [4.1 3.9]\n",
      " [2.7 2.2]\n",
      " [2.6 3.6]\n",
      " [3.6 2.4]\n",
      " [3.4 3.5]\n",
      " [3.8 4.9]\n",
      " [4.  3. ]\n",
      " [3.  5. ]\n",
      " [3.  6. ]\n",
      " [4.  4. ]\n",
      " [4.  5. ]\n",
      " [4.  6. ]\n",
      " [5.  6. ]\n",
      " [6.  5. ]\n",
      " [5.  4. ]], Shape:(27, 2)\n",
      "T:  (0, 0)\t1.0\n",
      "  (0, 1)\t1.0\n",
      "  (0, 2)\t1.0\n",
      "  (0, 3)\t1.0\n",
      "  (0, 4)\t1.0\n",
      "  (0, 5)\t1.0\n",
      "  (0, 6)\t1.0\n",
      "  (0, 7)\t1.0\n",
      "  (0, 8)\t1.0\n",
      "  (1, 9)\t1.0\n",
      "  (1, 10)\t1.0\n",
      "  (1, 11)\t1.0\n",
      "  (1, 12)\t1.0\n",
      "  (1, 13)\t1.0\n",
      "  (1, 14)\t1.0\n",
      "  (1, 15)\t1.0\n",
      "  (1, 16)\t1.0\n",
      "  (1, 17)\t1.0\n",
      "  (1, 18)\t1.0\n",
      "  (2, 19)\t1.0\n",
      "  (2, 20)\t1.0\n",
      "  (2, 21)\t1.0\n",
      "  (2, 22)\t1.0\n",
      "  (2, 23)\t1.0\n",
      "  (2, 24)\t1.0\n",
      "  (2, 25)\t1.0\n",
      "  (2, 26)\t1.0, Shape:()\n",
      "Tc:[[1. 1. 1. 1. 1. 1. 1. 1. 1. 0. 0. 0. 0. 0. 0. 0. 0. 0. 0. 0. 0. 0. 0. 0.\n",
      "  0. 0. 0.]\n",
      " [0. 0. 0. 0. 0. 0. 0. 0. 0. 1. 1. 1. 1. 1. 1. 1. 1. 1. 1. 0. 0. 0. 0. 0.\n",
      "  0. 0. 0.]\n",
      " [0. 0. 0. 0. 0. 0. 0. 0. 0. 0. 0. 0. 0. 0. 0. 0. 0. 0. 0. 1. 1. 1. 1. 1.\n",
      "  1. 1. 1.]], Shape:(3, 27)\n",
      "Class vector:[0 0 0 0 0 0 0 0 0 1 1 1 1 1 1 1 1 1 1 2 2 2 2 2 2 2 2], Shape:(27,)\n"
     ]
    }
   ],
   "source": [
    "X, y_classes = prepare_mat_data('zad1')"
   ]
  },
  {
   "cell_type": "code",
   "execution_count": 21,
   "metadata": {},
   "outputs": [
    {
     "data": {
      "image/png": "[encoded data removed]",
      "text/plain": [
       "<Figure size 432x288 with 1 Axes>"
      ]
     },
     "metadata": {},
     "output_type": "display_data"
    }
   ],
   "source": [
    "plt.title('Training class distributions')\n",
    "for i,m in zip(classes,markers):\n",
    "    class_data = np.where(y_classes == i)\n",
    "    plt.scatter(X[class_data,0], X[class_data,1], marker=m)"
   ]
  },
  {
   "cell_type": "code",
   "execution_count": 13,
   "metadata": {},
   "outputs": [],
   "source": [
    "pnn = PNN(std = 0.1)"
   ]
  },
  {
   "cell_type": "code",
   "execution_count": 14,
   "metadata": {},
   "outputs": [
    {
     "data": {
      "text/plain": [
       "PNN(verbose=False, std=0.1, batch_size=128)"
      ]
     },
     "execution_count": 14,
     "metadata": {},
     "output_type": "execute_result"
    }
   ],
   "source": [
    "pnn"
   ]
  },
  {
   "cell_type": "code",
   "execution_count": 15,
   "metadata": {},
   "outputs": [],
   "source": [
    "pnn.train(X, y_classes)"
   ]
  },
  {
   "cell_type": "code",
   "execution_count": 18,
   "metadata": {},
   "outputs": [
    {
     "name": "stderr",
     "output_type": "stream",
     "text": [
      "\r",
      "                                                                               \r"
     ]
    }
   ],
   "source": [
    "y_pred = pnn.predict(X_test)"
   ]
  },
  {
   "cell_type": "code",
   "execution_count": 34,
   "metadata": {},
   "outputs": [],
   "source": [
    "def plot_predictions():\n",
    "    plt.title('Predictions')\n",
    "    for i,m in zip(classes,markers):\n",
    "        class_data = np.where(y_classes == i)\n",
    "        plt.scatter(X[class_data,0], X[class_data,1], marker=m)\n",
    "        pred_data = np.where(y_pred == i)\n",
    "        plt.scatter(X_test[pred_data,0], X_test[pred_data,1], marker=m, c='red', label='Predicted {}'.format(m))\n",
    "        plt.legend()"
   ]
  },
  {
   "cell_type": "code",
   "execution_count": 35,
   "metadata": {},
   "outputs": [
    {
     "data": {
      "image/png": "[encoded data removed]",
      "text/plain": [
       "<Figure size 432x288 with 1 Axes>"
      ]
     },
     "metadata": {},
     "output_type": "display_data"
    }
   ],
   "source": [
    "plot_predictions()"
   ]
  }
 ],
 "metadata": {
  "kernelspec": {
   "display_name": "Python 3",
   "language": "python",
   "name": "python3"
  },
  "language_info": {
   "codemirror_mode": {
    "name": "ipython",
    "version": 3
   },
   "file_extension": ".py",
   "mimetype": "text/x-python",
   "name": "python",
   "nbconvert_exporter": "python",
   "pygments_lexer": "ipython3",
   "version": "3.6.3"
  }
 },
 "nbformat": 4,
 "nbformat_minor": 2
}
