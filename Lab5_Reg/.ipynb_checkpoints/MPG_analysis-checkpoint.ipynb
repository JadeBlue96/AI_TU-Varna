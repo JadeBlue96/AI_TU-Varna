{
 "cells": [
  {
   "cell_type": "code",
   "execution_count": 1,
   "metadata": {},
   "outputs": [],
   "source": [
    "import pandas as pd\n",
    "import matplotlib.pyplot as plt\n",
    "import numpy as np\n",
    "import seaborn as sns\n",
    "import operator\n",
    "\n",
    "from sklearn.model_selection import train_test_split\n",
    "from sklearn.linear_model import LinearRegression\n",
    "from sklearn.metrics import mean_squared_error\n",
    "from sklearn.preprocessing import PolynomialFeatures\n",
    "from sklearn.pipeline import make_pipeline"
   ]
  },
  {
   "cell_type": "markdown",
   "metadata": {},
   "source": [
    "### Data tidying and exploration"
   ]
  },
  {
   "cell_type": "code",
   "execution_count": 2,
   "metadata": {},
   "outputs": [],
   "source": [
    "car_data = pd.read_csv('auto-mpg.csv')"
   ]
  },
  {
   "cell_type": "code",
   "execution_count": 3,
   "metadata": {},
   "outputs": [
    {
     "data": {
      "text/html": [
       "<div>\n",
       "<style scoped>\n",
       "    .dataframe tbody tr th:only-of-type {\n",
       "        vertical-align: middle;\n",
       "    }\n",
       "\n",
       "    .dataframe tbody tr th {\n",
       "        vertical-align: top;\n",
       "    }\n",
       "\n",
       "    .dataframe thead th {\n",
       "        text-align: right;\n",
       "    }\n",
       "</style>\n",
       "<table border=\"1\" class=\"dataframe\">\n",
       "  <thead>\n",
       "    <tr style=\"text-align: right;\">\n",
       "      <th></th>\n",
       "      <th>mpg</th>\n",
       "      <th>cylinders</th>\n",
       "      <th>displacement</th>\n",
       "      <th>horsepower</th>\n",
       "      <th>weight</th>\n",
       "      <th>acceleration</th>\n",
       "      <th>model year</th>\n",
       "      <th>origin</th>\n",
       "      <th>car name</th>\n",
       "    </tr>\n",
       "  </thead>\n",
       "  <tbody>\n",
       "    <tr>\n",
       "      <th>0</th>\n",
       "      <td>18.0</td>\n",
       "      <td>8</td>\n",
       "      <td>307.0</td>\n",
       "      <td>130</td>\n",
       "      <td>3504</td>\n",
       "      <td>12.0</td>\n",
       "      <td>70</td>\n",
       "      <td>1</td>\n",
       "      <td>chevrolet chevelle malibu</td>\n",
       "    </tr>\n",
       "    <tr>\n",
       "      <th>1</th>\n",
       "      <td>15.0</td>\n",
       "      <td>8</td>\n",
       "      <td>350.0</td>\n",
       "      <td>165</td>\n",
       "      <td>3693</td>\n",
       "      <td>11.5</td>\n",
       "      <td>70</td>\n",
       "      <td>1</td>\n",
       "      <td>buick skylark 320</td>\n",
       "    </tr>\n",
       "    <tr>\n",
       "      <th>2</th>\n",
       "      <td>18.0</td>\n",
       "      <td>8</td>\n",
       "      <td>318.0</td>\n",
       "      <td>150</td>\n",
       "      <td>3436</td>\n",
       "      <td>11.0</td>\n",
       "      <td>70</td>\n",
       "      <td>1</td>\n",
       "      <td>plymouth satellite</td>\n",
       "    </tr>\n",
       "    <tr>\n",
       "      <th>3</th>\n",
       "      <td>16.0</td>\n",
       "      <td>8</td>\n",
       "      <td>304.0</td>\n",
       "      <td>150</td>\n",
       "      <td>3433</td>\n",
       "      <td>12.0</td>\n",
       "      <td>70</td>\n",
       "      <td>1</td>\n",
       "      <td>amc rebel sst</td>\n",
       "    </tr>\n",
       "    <tr>\n",
       "      <th>4</th>\n",
       "      <td>17.0</td>\n",
       "      <td>8</td>\n",
       "      <td>302.0</td>\n",
       "      <td>140</td>\n",
       "      <td>3449</td>\n",
       "      <td>10.5</td>\n",
       "      <td>70</td>\n",
       "      <td>1</td>\n",
       "      <td>ford torino</td>\n",
       "    </tr>\n",
       "  </tbody>\n",
       "</table>\n",
       "</div>"
      ],
      "text/plain": [
       "    mpg  cylinders  displacement horsepower  weight  acceleration  model year  \\\n",
       "0  18.0          8         307.0        130    3504          12.0          70   \n",
       "1  15.0          8         350.0        165    3693          11.5          70   \n",
       "2  18.0          8         318.0        150    3436          11.0          70   \n",
       "3  16.0          8         304.0        150    3433          12.0          70   \n",
       "4  17.0          8         302.0        140    3449          10.5          70   \n",
       "\n",
       "   origin                   car name  \n",
       "0       1  chevrolet chevelle malibu  \n",
       "1       1          buick skylark 320  \n",
       "2       1         plymouth satellite  \n",
       "3       1              amc rebel sst  \n",
       "4       1                ford torino  "
      ]
     },
     "execution_count": 3,
     "metadata": {},
     "output_type": "execute_result"
    }
   ],
   "source": [
    "car_data.head()"
   ]
  },
  {
   "cell_type": "code",
   "execution_count": 4,
   "metadata": {},
   "outputs": [
    {
     "name": "stdout",
     "output_type": "stream",
     "text": [
      "Dataset shape:(398, 9)\n"
     ]
    }
   ],
   "source": [
    "print('Dataset shape:{}'.format(car_data.shape))"
   ]
  },
  {
   "cell_type": "code",
   "execution_count": 5,
   "metadata": {},
   "outputs": [
    {
     "data": {
      "text/plain": [
       "mpg             float64\n",
       "cylinders         int64\n",
       "displacement    float64\n",
       "horsepower       object\n",
       "weight            int64\n",
       "acceleration    float64\n",
       "model year        int64\n",
       "origin            int64\n",
       "car name         object\n",
       "dtype: object"
      ]
     },
     "execution_count": 5,
     "metadata": {},
     "output_type": "execute_result"
    }
   ],
   "source": [
    "car_data.dtypes"
   ]
  },
  {
   "cell_type": "markdown",
   "metadata": {},
   "source": [
    "#### There is a '?' in the horsepower data which causes the column type to change."
   ]
  },
  {
   "cell_type": "code",
   "execution_count": 6,
   "metadata": {},
   "outputs": [
    {
     "data": {
      "text/plain": [
       "array(['130', '165', '150', '140', '198', '220', '215', '225', '190',\n",
       "       '170', '160', '95', '97', '85', '88', '46', '87', '90', '113',\n",
       "       '200', '210', '193', '?', '100', '105', '175', '153', '180', '110',\n",
       "       '72', '86', '70', '76', '65', '69', '60', '80', '54', '208', '155',\n",
       "       '112', '92', '145', '137', '158', '167', '94', '107', '230', '49',\n",
       "       '75', '91', '122', '67', '83', '78', '52', '61', '93', '148',\n",
       "       '129', '96', '71', '98', '115', '53', '81', '79', '120', '152',\n",
       "       '102', '108', '68', '58', '149', '89', '63', '48', '66', '139',\n",
       "       '103', '125', '133', '138', '135', '142', '77', '62', '132', '84',\n",
       "       '64', '74', '116', '82'], dtype=object)"
      ]
     },
     "execution_count": 6,
     "metadata": {},
     "output_type": "execute_result"
    }
   ],
   "source": [
    "car_data.horsepower.unique()"
   ]
  },
  {
   "cell_type": "code",
   "execution_count": 7,
   "metadata": {},
   "outputs": [],
   "source": [
    "car_data = car_data[car_data.horsepower != '?']"
   ]
  },
  {
   "cell_type": "code",
   "execution_count": 8,
   "metadata": {},
   "outputs": [
    {
     "data": {
      "text/plain": [
       "(392, 9)"
      ]
     },
     "execution_count": 8,
     "metadata": {},
     "output_type": "execute_result"
    }
   ],
   "source": [
    "car_data.shape"
   ]
  },
  {
   "cell_type": "code",
   "execution_count": 9,
   "metadata": {},
   "outputs": [
    {
     "data": {
      "text/plain": [
       "mpg             0\n",
       "cylinders       0\n",
       "displacement    0\n",
       "horsepower      0\n",
       "weight          0\n",
       "acceleration    0\n",
       "model year      0\n",
       "origin          0\n",
       "car name        0\n",
       "dtype: int64"
      ]
     },
     "execution_count": 9,
     "metadata": {},
     "output_type": "execute_result"
    }
   ],
   "source": [
    "car_data.isnull().sum()"
   ]
  },
  {
   "cell_type": "code",
   "execution_count": 10,
   "metadata": {},
   "outputs": [
    {
     "data": {
      "text/plain": [
       "array([70, 71, 72, 73, 74, 75, 76, 77, 78, 79, 80, 81, 82], dtype=int64)"
      ]
     },
     "execution_count": 10,
     "metadata": {},
     "output_type": "execute_result"
    }
   ],
   "source": [
    "car_data['model year'].unique()"
   ]
  },
  {
   "cell_type": "markdown",
   "metadata": {},
   "source": [
    "#### Change the model year column to display the full years."
   ]
  },
  {
   "cell_type": "code",
   "execution_count": 11,
   "metadata": {},
   "outputs": [],
   "source": [
    "car_data['model year']+=1900"
   ]
  },
  {
   "cell_type": "code",
   "execution_count": 12,
   "metadata": {},
   "outputs": [
    {
     "data": {
      "text/plain": [
       "array([1970, 1971, 1972, 1973, 1974, 1975, 1976, 1977, 1978, 1979, 1980,\n",
       "       1981, 1982], dtype=int64)"
      ]
     },
     "execution_count": 12,
     "metadata": {},
     "output_type": "execute_result"
    }
   ],
   "source": [
    "car_data['model year'].unique()"
   ]
  },
  {
   "cell_type": "code",
   "execution_count": 13,
   "metadata": {},
   "outputs": [
    {
     "data": {
      "image/png": "[encoded data removed]",
      "text/plain": [
       "<Figure size 720x720 with 2 Axes>"
      ]
     },
     "metadata": {},
     "output_type": "display_data"
    }
   ],
   "source": [
    "plt.figure(figsize=(10,10))\n",
    "sns.heatmap(car_data.corr(),annot=True,linewidth=0.5,center=0,cmap='rainbow')\n",
    "plt.show()"
   ]
  },
  {
   "cell_type": "code",
   "execution_count": 14,
   "metadata": {},
   "outputs": [],
   "source": [
    "car_data = car_data.drop(columns=['car name'])"
   ]
  },
  {
   "cell_type": "code",
   "execution_count": 15,
   "metadata": {},
   "outputs": [
    {
     "data": {
      "text/html": [
       "<div>\n",
       "<style scoped>\n",
       "    .dataframe tbody tr th:only-of-type {\n",
       "        vertical-align: middle;\n",
       "    }\n",
       "\n",
       "    .dataframe tbody tr th {\n",
       "        vertical-align: top;\n",
       "    }\n",
       "\n",
       "    .dataframe thead th {\n",
       "        text-align: right;\n",
       "    }\n",
       "</style>\n",
       "<table border=\"1\" class=\"dataframe\">\n",
       "  <thead>\n",
       "    <tr style=\"text-align: right;\">\n",
       "      <th></th>\n",
       "      <th>mpg</th>\n",
       "      <th>cylinders</th>\n",
       "      <th>displacement</th>\n",
       "      <th>horsepower</th>\n",
       "      <th>weight</th>\n",
       "      <th>acceleration</th>\n",
       "      <th>model year</th>\n",
       "      <th>origin</th>\n",
       "    </tr>\n",
       "  </thead>\n",
       "  <tbody>\n",
       "    <tr>\n",
       "      <th>0</th>\n",
       "      <td>18.0</td>\n",
       "      <td>8</td>\n",
       "      <td>307.0</td>\n",
       "      <td>130</td>\n",
       "      <td>3504</td>\n",
       "      <td>12.0</td>\n",
       "      <td>1970</td>\n",
       "      <td>1</td>\n",
       "    </tr>\n",
       "    <tr>\n",
       "      <th>1</th>\n",
       "      <td>15.0</td>\n",
       "      <td>8</td>\n",
       "      <td>350.0</td>\n",
       "      <td>165</td>\n",
       "      <td>3693</td>\n",
       "      <td>11.5</td>\n",
       "      <td>1970</td>\n",
       "      <td>1</td>\n",
       "    </tr>\n",
       "    <tr>\n",
       "      <th>2</th>\n",
       "      <td>18.0</td>\n",
       "      <td>8</td>\n",
       "      <td>318.0</td>\n",
       "      <td>150</td>\n",
       "      <td>3436</td>\n",
       "      <td>11.0</td>\n",
       "      <td>1970</td>\n",
       "      <td>1</td>\n",
       "    </tr>\n",
       "    <tr>\n",
       "      <th>3</th>\n",
       "      <td>16.0</td>\n",
       "      <td>8</td>\n",
       "      <td>304.0</td>\n",
       "      <td>150</td>\n",
       "      <td>3433</td>\n",
       "      <td>12.0</td>\n",
       "      <td>1970</td>\n",
       "      <td>1</td>\n",
       "    </tr>\n",
       "    <tr>\n",
       "      <th>4</th>\n",
       "      <td>17.0</td>\n",
       "      <td>8</td>\n",
       "      <td>302.0</td>\n",
       "      <td>140</td>\n",
       "      <td>3449</td>\n",
       "      <td>10.5</td>\n",
       "      <td>1970</td>\n",
       "      <td>1</td>\n",
       "    </tr>\n",
       "  </tbody>\n",
       "</table>\n",
       "</div>"
      ],
      "text/plain": [
       "    mpg  cylinders  displacement horsepower  weight  acceleration  model year  \\\n",
       "0  18.0          8         307.0        130    3504          12.0        1970   \n",
       "1  15.0          8         350.0        165    3693          11.5        1970   \n",
       "2  18.0          8         318.0        150    3436          11.0        1970   \n",
       "3  16.0          8         304.0        150    3433          12.0        1970   \n",
       "4  17.0          8         302.0        140    3449          10.5        1970   \n",
       "\n",
       "   origin  \n",
       "0       1  \n",
       "1       1  \n",
       "2       1  \n",
       "3       1  \n",
       "4       1  "
      ]
     },
     "execution_count": 15,
     "metadata": {},
     "output_type": "execute_result"
    }
   ],
   "source": [
    "car_data.head()"
   ]
  },
  {
   "cell_type": "markdown",
   "metadata": {},
   "source": [
    "### Train-test split"
   ]
  },
  {
   "cell_type": "markdown",
   "metadata": {},
   "source": [
    "#### Mpg is the predicted column and all of the rest are used in training "
   ]
  },
  {
   "cell_type": "code",
   "execution_count": 16,
   "metadata": {},
   "outputs": [],
   "source": [
    "car_data_y = car_data.iloc[:,0].values\n",
    "car_data_x = car_data.iloc[:,1:].values"
   ]
  },
  {
   "cell_type": "code",
   "execution_count": 17,
   "metadata": {},
   "outputs": [
    {
     "data": {
      "text/plain": [
       "(392,)"
      ]
     },
     "execution_count": 17,
     "metadata": {},
     "output_type": "execute_result"
    }
   ],
   "source": [
    "car_data_y.shape"
   ]
  },
  {
   "cell_type": "code",
   "execution_count": 18,
   "metadata": {},
   "outputs": [
    {
     "data": {
      "text/plain": [
       "(392, 7)"
      ]
     },
     "execution_count": 18,
     "metadata": {},
     "output_type": "execute_result"
    }
   ],
   "source": [
    "car_data_x.shape"
   ]
  },
  {
   "cell_type": "code",
   "execution_count": 19,
   "metadata": {},
   "outputs": [],
   "source": [
    "car_data_x_train, car_data_x_test, car_data_y_train, car_data_y_test = train_test_split(car_data_x, car_data_y, \n",
    "                                                                                       train_size=0.7,\n",
    "                                                                                       test_size=0.3,\n",
    "                                                                                       random_state=22)"
   ]
  },
  {
   "cell_type": "code",
   "execution_count": 20,
   "metadata": {},
   "outputs": [
    {
     "name": "stdout",
     "output_type": "stream",
     "text": [
      "(274, 7) (118, 7) (274,) (118,)\n"
     ]
    }
   ],
   "source": [
    "print(car_data_x_train.shape, car_data_x_test.shape, car_data_y_train.shape, car_data_y_test.shape)"
   ]
  },
  {
   "cell_type": "code",
   "execution_count": 21,
   "metadata": {},
   "outputs": [],
   "source": [
    "scores = {}"
   ]
  },
  {
   "cell_type": "markdown",
   "metadata": {},
   "source": [
    "#### Linear regression with one feature"
   ]
  },
  {
   "cell_type": "code",
   "execution_count": 22,
   "metadata": {},
   "outputs": [
    {
     "data": {
      "text/plain": [
       "LinearRegression(copy_X=True, fit_intercept=True, n_jobs=1, normalize=False)"
      ]
     },
     "execution_count": 22,
     "metadata": {},
     "output_type": "execute_result"
    }
   ],
   "source": [
    "linear_regression = LinearRegression()\n",
    "linear_regression.fit(car_data_x_train[:,3].reshape(-1,1), car_data_y_train)"
   ]
  },
  {
   "cell_type": "code",
   "execution_count": 23,
   "metadata": {},
   "outputs": [],
   "source": [
    "car_data_y_pred = linear_regression.predict(car_data_x_test[:,3].reshape(-1,1))"
   ]
  },
  {
   "cell_type": "code",
   "execution_count": 24,
   "metadata": {},
   "outputs": [
    {
     "data": {
      "text/plain": [
       "[<matplotlib.lines.Line2D at 0x2b79ea20a20>]"
      ]
     },
     "execution_count": 24,
     "metadata": {},
     "output_type": "execute_result"
    },
    {
     "data": {
      "image/png": "[encoded data removed]",
      "text/plain": [
       "<Figure size 576x576 with 1 Axes>"
      ]
     },
     "metadata": {},
     "output_type": "display_data"
    }
   ],
   "source": [
    "plt.figure(figsize=(8,8))\n",
    "plt.title('Linear regression with one feature: Predicted MPG by Weight')\n",
    "plt.scatter(car_data_x_test[:,3], car_data_y_test, color='blue')\n",
    "plt.plot(car_data_x_test[:,3], car_data_y_pred, color='red')"
   ]
  },
  {
   "cell_type": "code",
   "execution_count": 25,
   "metadata": {},
   "outputs": [
    {
     "name": "stdout",
     "output_type": "stream",
     "text": [
      "Linear Regression R^2: 0.697\n"
     ]
    }
   ],
   "source": [
    "result = linear_regression.score(car_data_x_test[:,3].reshape(-1,1), car_data_y_test)\n",
    "print('Linear Regression R^2: {:.3f}'.format(linear_regression.score(car_data_x_test[:,3].reshape(-1,1),\n",
    "                                                                     car_data_y_test)))"
   ]
  },
  {
   "cell_type": "code",
   "execution_count": 26,
   "metadata": {},
   "outputs": [],
   "source": [
    "scores['linear_one_feature'] = result"
   ]
  },
  {
   "cell_type": "markdown",
   "metadata": {},
   "source": [
    "#### Polynomial regression - one feature second degree"
   ]
  },
  {
   "cell_type": "code",
   "execution_count": 27,
   "metadata": {},
   "outputs": [],
   "source": [
    "poly = PolynomialFeatures(degree=2)"
   ]
  },
  {
   "cell_type": "code",
   "execution_count": 28,
   "metadata": {},
   "outputs": [],
   "source": [
    "feature_test = car_data_x_test[:,3].reshape(-1,1)\n",
    "feature_train = car_data_x_train[:,3].reshape(-1,1)"
   ]
  },
  {
   "cell_type": "code",
   "execution_count": 29,
   "metadata": {},
   "outputs": [],
   "source": [
    "poly_x_train = poly.fit_transform(feature_train)\n",
    "poly_x_test = poly.fit_transform(feature_test)"
   ]
  },
  {
   "cell_type": "code",
   "execution_count": 30,
   "metadata": {},
   "outputs": [
    {
     "data": {
      "text/plain": [
       "LinearRegression(copy_X=True, fit_intercept=True, n_jobs=1, normalize=False)"
      ]
     },
     "execution_count": 30,
     "metadata": {},
     "output_type": "execute_result"
    }
   ],
   "source": [
    "linear_regression = LinearRegression()\n",
    "linear_regression.fit(poly_x_train, car_data_y_train)"
   ]
  },
  {
   "cell_type": "code",
   "execution_count": 31,
   "metadata": {},
   "outputs": [
    {
     "data": {
      "text/plain": [
       "['1', 'x0', 'x0^2']"
      ]
     },
     "execution_count": 31,
     "metadata": {},
     "output_type": "execute_result"
    }
   ],
   "source": [
    "poly.get_feature_names()"
   ]
  },
  {
   "cell_type": "code",
   "execution_count": 32,
   "metadata": {},
   "outputs": [
    {
     "data": {
      "text/plain": [
       "(118, 3)"
      ]
     },
     "execution_count": 32,
     "metadata": {},
     "output_type": "execute_result"
    }
   ],
   "source": [
    "poly_x_test.shape"
   ]
  },
  {
   "cell_type": "code",
   "execution_count": 33,
   "metadata": {},
   "outputs": [],
   "source": [
    "poly_pred = linear_regression.predict(poly_x_test)"
   ]
  },
  {
   "cell_type": "code",
   "execution_count": 34,
   "metadata": {},
   "outputs": [],
   "source": [
    "plot_x_test, plot_y_test = zip(*sorted(zip(feature_test, poly_pred)))"
   ]
  },
  {
   "cell_type": "code",
   "execution_count": 35,
   "metadata": {},
   "outputs": [
    {
     "data": {
      "text/plain": [
       "[<matplotlib.lines.Line2D at 0x2b79ee63c50>]"
      ]
     },
     "execution_count": 35,
     "metadata": {},
     "output_type": "execute_result"
    },
    {
     "data": {
      "image/png": "[encoded data removed]",
      "text/plain": [
       "<Figure size 576x576 with 1 Axes>"
      ]
     },
     "metadata": {},
     "output_type": "display_data"
    }
   ],
   "source": [
    "plt.figure(figsize=(8,8))\n",
    "plt.title('Polynomial regression - one feature second degree: Predicted MPG by Weight')\n",
    "plt.scatter(feature_test, car_data_y_test, color='blue')\n",
    "plt.plot(plot_x_test, plot_y_test, color='red')"
   ]
  },
  {
   "cell_type": "code",
   "execution_count": 36,
   "metadata": {},
   "outputs": [
    {
     "name": "stdout",
     "output_type": "stream",
     "text": [
      "Polynomial Regression R^2: 0.723\n"
     ]
    }
   ],
   "source": [
    "result = linear_regression.score(poly_x_test, car_data_y_test)\n",
    "print('Polynomial Regression R^2: {:.3f}'.format(linear_regression.score(poly_x_test, car_data_y_test)))"
   ]
  },
  {
   "cell_type": "code",
   "execution_count": 37,
   "metadata": {},
   "outputs": [],
   "source": [
    "scores['poly_one_feature^2'] = result"
   ]
  },
  {
   "cell_type": "markdown",
   "metadata": {},
   "source": [
    "#### Polynomial regression - one feature ninth degree"
   ]
  },
  {
   "cell_type": "code",
   "execution_count": 38,
   "metadata": {},
   "outputs": [
    {
     "data": {
      "text/plain": [
       "LinearRegression(copy_X=True, fit_intercept=True, n_jobs=1, normalize=False)"
      ]
     },
     "execution_count": 38,
     "metadata": {},
     "output_type": "execute_result"
    }
   ],
   "source": [
    "poly = PolynomialFeatures(degree=9)\n",
    "feature_test = car_data_x_test[:,3].reshape(-1,1)\n",
    "feature_train = car_data_x_train[:,3].reshape(-1,1)\n",
    "poly_x_train = poly.fit_transform(feature_train)\n",
    "poly_x_test = poly.fit_transform(feature_test)\n",
    "linear_regression = LinearRegression()\n",
    "linear_regression.fit(poly_x_train, car_data_y_train)"
   ]
  },
  {
   "cell_type": "code",
   "execution_count": 39,
   "metadata": {},
   "outputs": [
    {
     "data": {
      "text/plain": [
       "['1', 'x0', 'x0^2', 'x0^3', 'x0^4', 'x0^5', 'x0^6', 'x0^7', 'x0^8', 'x0^9']"
      ]
     },
     "execution_count": 39,
     "metadata": {},
     "output_type": "execute_result"
    }
   ],
   "source": [
    "poly.get_feature_names()"
   ]
  },
  {
   "cell_type": "code",
   "execution_count": 40,
   "metadata": {},
   "outputs": [],
   "source": [
    "poly_pred = linear_regression.predict(poly_x_test)\n",
    "plot_x_test, plot_y_test = zip(*sorted(zip(feature_test, poly_pred)))"
   ]
  },
  {
   "cell_type": "code",
   "execution_count": 41,
   "metadata": {},
   "outputs": [
    {
     "data": {
      "text/plain": [
       "[<matplotlib.lines.Line2D at 0x2b79ed2cbe0>]"
      ]
     },
     "execution_count": 41,
     "metadata": {},
     "output_type": "execute_result"
    },
    {
     "data": {
      "image/png": "[encoded data removed]",
      "text/plain": [
       "<Figure size 576x576 with 1 Axes>"
      ]
     },
     "metadata": {},
     "output_type": "display_data"
    }
   ],
   "source": [
    "plt.figure(figsize=(8,8))\n",
    "plt.title('Polynomial regression - one feature ninth degree: Predicted MPG by Weight')\n",
    "plt.scatter(feature_test, car_data_y_test, color='blue')\n",
    "plt.plot(plot_x_test, plot_y_test, color='red')"
   ]
  },
  {
   "cell_type": "code",
   "execution_count": 42,
   "metadata": {},
   "outputs": [
    {
     "name": "stdout",
     "output_type": "stream",
     "text": [
      "Polynomial Regression R^2: 0.726\n"
     ]
    }
   ],
   "source": [
    "result = linear_regression.score(poly_x_test, car_data_y_test)\n",
    "print('Polynomial Regression R^2: {:.3f}'.format(linear_regression.score(poly_x_test, car_data_y_test)))"
   ]
  },
  {
   "cell_type": "code",
   "execution_count": 43,
   "metadata": {},
   "outputs": [],
   "source": [
    "scores['poly_one_feature^9'] = result"
   ]
  },
  {
   "cell_type": "markdown",
   "metadata": {},
   "source": [
    "#### Linear regression with all features"
   ]
  },
  {
   "cell_type": "code",
   "execution_count": 44,
   "metadata": {},
   "outputs": [],
   "source": [
    "linear_regression = LinearRegression()"
   ]
  },
  {
   "cell_type": "code",
   "execution_count": 45,
   "metadata": {},
   "outputs": [
    {
     "data": {
      "text/plain": [
       "LinearRegression(copy_X=True, fit_intercept=True, n_jobs=1, normalize=False)"
      ]
     },
     "execution_count": 45,
     "metadata": {},
     "output_type": "execute_result"
    }
   ],
   "source": [
    "linear_regression.fit(car_data_x_train, car_data_y_train)"
   ]
  },
  {
   "cell_type": "code",
   "execution_count": 46,
   "metadata": {},
   "outputs": [],
   "source": [
    "car_data_y_pred = linear_regression.predict(car_data_x_test)"
   ]
  },
  {
   "cell_type": "code",
   "execution_count": 47,
   "metadata": {},
   "outputs": [
    {
     "name": "stdout",
     "output_type": "stream",
     "text": [
      "[25.12383227 24.51202413 18.00441813 20.65728439 27.02503751 10.95491111\n",
      " 21.62553167 21.00276902 21.52955615 27.0794616  28.31685369 26.26969513\n",
      " 20.00783409 28.913797   28.64714474  9.02264305 28.89230066 19.89424312\n",
      " 16.4025372  16.75886742 23.46867478 21.30129752 23.58002205 15.66213016\n",
      " 28.9386943  32.31448714 21.83567146 13.68575758 21.101457   25.04464736\n",
      " 31.83869033 20.52388083 14.41552286 10.56862671 25.79592923 24.070237\n",
      " 25.79507549 24.2325738  21.69599133 35.02178271 27.12195835  8.06086649\n",
      " 16.58102403 31.19892624 28.291057   30.89735193 22.25868409 15.5060397\n",
      " 29.52711432  9.81077571 26.29650318 33.9227512  12.97480629 18.36584119\n",
      " 10.93594815 33.42635785 14.85425811 22.12346098 35.85884127 20.14039658\n",
      " 25.97672398 27.39990084 16.49340325  9.4108842  15.9279676  15.29756101\n",
      " 32.05724946 33.35038119 22.27036285 28.79359667 18.54528861 21.61935329\n",
      " 16.51268322 26.14177297 17.99983718 19.20500588 34.38433308 11.62005532\n",
      " 17.43998184 25.73321883 23.67332383 22.84505896 15.23816208 28.03621411\n",
      " 31.39102178 18.30544402 23.99035154 30.3776872  34.92588998 29.26172043\n",
      " 14.51429658 23.02202611 30.07734766 28.88496164 15.87252669  6.70492819\n",
      " 25.70085491 17.41981394  5.61154428 12.58819427 32.47938284 28.14126684\n",
      " 23.36728917 23.03634272 22.51561874 33.40319857 14.75298074 26.75040368\n",
      " 25.31970549 30.49766327 11.8395668  33.05076329 17.0828091  29.26970834\n",
      " 16.13687147 20.38560994 29.91012036 16.32215619]\n"
     ]
    }
   ],
   "source": [
    "print(car_data_y_pred)"
   ]
  },
  {
   "cell_type": "code",
   "execution_count": 48,
   "metadata": {},
   "outputs": [
    {
     "name": "stdout",
     "output_type": "stream",
     "text": [
      "Linear Regression R^2: 0.810\n"
     ]
    }
   ],
   "source": [
    "result = linear_regression.score(car_data_x_test, car_data_y_test)\n",
    "print('Linear Regression R^2: {:.3f}'.format(linear_regression.score(car_data_x_test, car_data_y_test)))"
   ]
  },
  {
   "cell_type": "code",
   "execution_count": 49,
   "metadata": {},
   "outputs": [],
   "source": [
    "scores['linear_all'] = result"
   ]
  },
  {
   "cell_type": "markdown",
   "metadata": {},
   "source": [
    "#### Polynomial regression - all features second degree"
   ]
  },
  {
   "cell_type": "code",
   "execution_count": 50,
   "metadata": {},
   "outputs": [
    {
     "data": {
      "text/plain": [
       "LinearRegression(copy_X=True, fit_intercept=True, n_jobs=1, normalize=False)"
      ]
     },
     "execution_count": 50,
     "metadata": {},
     "output_type": "execute_result"
    }
   ],
   "source": [
    "poly_features = PolynomialFeatures(degree=2)\n",
    "car_data_xpoly_train = poly_features.fit_transform(car_data_x_train)\n",
    "car_data_xpoly_test = poly_features.fit_transform(car_data_x_test)\n",
    "linear_regression.fit(car_data_xpoly_train, car_data_y_train)"
   ]
  },
  {
   "cell_type": "code",
   "execution_count": 51,
   "metadata": {},
   "outputs": [
    {
     "name": "stdout",
     "output_type": "stream",
     "text": [
      "[23.98027856 25.32789003 15.78347614 18.63580551 25.90826331 13.38024687\n",
      " 18.83448894 19.39901325 20.35214096 26.07926599 30.40301132 23.92603271\n",
      " 17.11791808 28.86165681 29.87883891 12.92918514 27.05606388 18.28650188\n",
      " 15.32748171 16.71523917 20.28973936 19.14428497 22.15712129 15.0558551\n",
      " 30.41735402 36.7584322  14.9769212  14.74389066 20.16155843 23.51039671\n",
      " 34.51450889 19.03987591 14.79658059 13.25089713 28.3879092  26.52503832\n",
      " 27.43174815 23.91738546 18.77946514 35.8043403  20.48405424 11.42928171\n",
      " 15.65657562 33.25373095 27.64272313 31.94014586 19.72597265 16.63309876\n",
      " 29.55719575 13.14901463 23.26469281 37.18586241 12.95944165 17.72740286\n",
      " 13.30031865 35.06483374 14.93142871 22.25670457 37.02480176 20.20277954\n",
      " 24.89649618 20.97387826 15.67608014 13.61153866 13.1861237  15.73389908\n",
      " 35.04484617 34.29947796 20.30154729 31.12693363 16.944074   20.90788354\n",
      " 14.48709869 29.30490803 15.73983706 19.28511483 42.47653027 13.91060084\n",
      " 16.37523162 23.07312225 24.69731324 26.43648708 14.10410059 29.1193089\n",
      " 35.87764552 15.81720137 23.04014422 29.29932731 34.1136362  33.00050225\n",
      " 13.90787039 21.88880746 28.65664707 29.47333885 17.30404855 14.06947138\n",
      " 22.2315483  16.33392714 10.48599933 14.50874371 31.81770323 29.98592177\n",
      " 20.5126657  23.19655208 23.02589662 34.52139571 15.23155479 23.53596942\n",
      " 27.13605211 26.80575766 13.98249472 34.39232378 15.38857156 31.11645909\n",
      " 15.32278346 14.90211802 26.45916923 16.69512774]\n"
     ]
    }
   ],
   "source": [
    "car_data_y_pred = linear_regression.predict(car_data_xpoly_test)\n",
    "print(car_data_y_pred)"
   ]
  },
  {
   "cell_type": "code",
   "execution_count": 52,
   "metadata": {},
   "outputs": [
    {
     "name": "stdout",
     "output_type": "stream",
     "text": [
      "Polynomial Regression R^2: 0.873\n"
     ]
    }
   ],
   "source": [
    "result = linear_regression.score(car_data_xpoly_test, car_data_y_test)\n",
    "print('Polynomial Regression R^2: {:.3f}'.format(linear_regression.score(car_data_xpoly_test, car_data_y_test)))"
   ]
  },
  {
   "cell_type": "code",
   "execution_count": 53,
   "metadata": {},
   "outputs": [],
   "source": [
    "scores['poly_all^2'] = result"
   ]
  },
  {
   "cell_type": "markdown",
   "metadata": {},
   "source": [
    "#### Polynomial regression - all features third degree"
   ]
  },
  {
   "cell_type": "code",
   "execution_count": 54,
   "metadata": {},
   "outputs": [
    {
     "data": {
      "text/plain": [
       "LinearRegression(copy_X=True, fit_intercept=True, n_jobs=1, normalize=False)"
      ]
     },
     "execution_count": 54,
     "metadata": {},
     "output_type": "execute_result"
    }
   ],
   "source": [
    "poly_features = PolynomialFeatures(degree=3)\n",
    "car_data_xpoly_train = poly_features.fit_transform(car_data_x_train)\n",
    "car_data_xpoly_test = poly_features.fit_transform(car_data_x_test)\n",
    "linear_regression.fit(car_data_xpoly_train, car_data_y_train)"
   ]
  },
  {
   "cell_type": "code",
   "execution_count": 55,
   "metadata": {},
   "outputs": [
    {
     "name": "stdout",
     "output_type": "stream",
     "text": [
      "[ 25.68217073  26.26044716  19.41100934  18.94378457  26.16204722\n",
      "  11.92554986  20.75302287  17.97060837  19.01226805  31.23915242\n",
      "  30.45481839  24.77713122  17.72107991  27.3919631   30.67608142\n",
      "  10.98405981  25.90764298  18.88825011  18.6344067   20.93558341\n",
      "  15.07243588  18.29979791  18.86894663  16.33721705  29.27572698\n",
      "  34.54463665  36.88658438  12.51636612  18.50018646  66.58973024\n",
      "  41.3770814   18.69260597  17.56974775  15.48108164  22.97376421\n",
      "  25.21075771  30.30453564  23.31573365  22.5490882   37.54615442\n",
      "  44.64122794   1.14115589  21.6408882   32.73084327  25.40110017\n",
      "  32.0380086   18.07082783  16.1167216   26.59749575  16.48925737\n",
      "  25.08564805  39.27125564   7.54767582  19.81699534  14.30944195\n",
      "  36.39022511  17.41705493  21.4618388   40.16285231  15.64438213\n",
      "  28.34716112  92.81687476  21.61724464  16.53847463  10.78883495\n",
      "  13.44667899  34.79255033  36.26149776  22.94067778  31.4247346\n",
      "  15.12113972  19.86813038  14.74781628  70.81716097  16.7627774\n",
      "  20.21829435  58.80467572  17.21181683  18.78305585  23.94460657\n",
      "  17.09002168  50.42943626  13.51163531  31.4058023   35.89627222\n",
      "  16.72181669  19.18107874  29.50099511  31.79922068  33.41707476\n",
      "  13.17942306  19.57702053  29.62600849  35.29230499  23.15160932\n",
      "   9.66013     20.87783345  18.93821473 -29.52730595  18.18643602\n",
      "  33.63895144  30.1833577   22.00976323  24.31700416  23.28256426\n",
      "  33.63906853  18.98336357  20.89962687  28.15036329  38.50443292\n",
      "  11.93442216  29.730407    11.55027253  29.89959044  18.49017034\n",
      "   8.72191119  29.06811552 -19.46145253]\n"
     ]
    }
   ],
   "source": [
    "car_data_y_pred = linear_regression.predict(car_data_xpoly_test)\n",
    "print(car_data_y_pred)"
   ]
  },
  {
   "cell_type": "code",
   "execution_count": 56,
   "metadata": {},
   "outputs": [
    {
     "name": "stdout",
     "output_type": "stream",
     "text": [
      "Polynomial Regression R^2: -0.785\n"
     ]
    }
   ],
   "source": [
    "result = linear_regression.score(car_data_xpoly_test, car_data_y_test)\n",
    "print('Polynomial Regression R^2: {:.3f}'.format(linear_regression.score(car_data_xpoly_test, car_data_y_test)))"
   ]
  },
  {
   "cell_type": "code",
   "execution_count": 57,
   "metadata": {},
   "outputs": [],
   "source": [
    "scores['poly_all^3'] = result"
   ]
  },
  {
   "cell_type": "code",
   "execution_count": 58,
   "metadata": {},
   "outputs": [
    {
     "name": "stdout",
     "output_type": "stream",
     "text": [
      "Regression results:\n",
      "[('poly_all^2', 0.8728088462912125), ('linear_all', 0.8101423494593327), ('poly_one_feature^9', 0.725885735578365), ('poly_one_feature^2', 0.723201149320406), ('linear_one_feature', 0.697065080303364), ('poly_all^3', -0.7850113774043002)]\n"
     ]
    }
   ],
   "source": [
    "print('Regression results:')\n",
    "print(sorted(scores.items(), key=lambda kv: kv[1], reverse=True))"
   ]
  }
 ],
 "metadata": {
  "kernelspec": {
   "display_name": "Python 3",
   "language": "python",
   "name": "python3"
  },
  "language_info": {
   "codemirror_mode": {
    "name": "ipython",
    "version": 3
   },
   "file_extension": ".py",
   "mimetype": "text/x-python",
   "name": "python",
   "nbconvert_exporter": "python",
   "pygments_lexer": "ipython3",
   "version": "3.6.5"
  }
 },
 "nbformat": 4,
 "nbformat_minor": 2
}
